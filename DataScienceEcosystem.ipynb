{
 "cells": [
  {
   "cell_type": "markdown",
   "id": "d430726d-2f42-4695-86b0-740549f3c030",
   "metadata": {},
   "source": [
    "# Data Science Tools and Ecosystem"
   ]
  },
  {
   "cell_type": "markdown",
   "id": "3226d86d-7601-40e0-9719-b857fa50622c",
   "metadata": {},
   "source": [
    "## Author"
   ]
  },
  {
   "cell_type": "markdown",
   "id": "82e26cca-793d-4b92-a69f-ac710f01db51",
   "metadata": {},
   "source": [
    "Manan Rajput"
   ]
  },
  {
   "cell_type": "markdown",
   "id": "39e8db8b-85d5-4db5-b7a5-02ab5aceecc5",
   "metadata": {},
   "source": [
    "In this notebook, Data Science Tools and Ecosystem are summarized."
   ]
  },
  {
   "cell_type": "markdown",
   "id": "a03589c5-bf38-4f27-81af-e19acd460b20",
   "metadata": {},
   "source": [
    "**Objectives:**"
   ]
  },
  {
   "cell_type": "markdown",
   "id": "3677d35c-caf1-42fc-91cf-8a8cbe321ac4",
   "metadata": {},
   "source": [
    "1. Some of the popular languages that Data Scientists use\n",
    "2. Some of the commonly used libraries used by Data Scientists\n",
    "3. Examples of evaluating arithmetic expressions in Python"
   ]
  },
  {
   "cell_type": "markdown",
   "id": "45425b23-ac7e-43b4-8ff1-45b1c327ddf8",
   "metadata": {},
   "source": [
    "Some of the popular languages that Data Scientists use are:\n"
   ]
  },
  {
   "cell_type": "markdown",
   "id": "dac6679a-09c3-453a-b0dd-90b6c6b94369",
   "metadata": {},
   "source": [
    "1. Python\n",
    "2. R\n",
    "3. SQL"
   ]
  },
  {
   "cell_type": "markdown",
   "id": "c39e8670-aa3a-4806-99c9-50d0d65106e0",
   "metadata": {},
   "source": [
    "Some of the commonly used libraries used by Data Scientists include:"
   ]
  },
  {
   "cell_type": "markdown",
   "id": "553cfd1b-4b6d-437b-8409-e2cc43d38ec2",
   "metadata": {},
   "source": [
    "1. Scikit-learn\n",
    "2. Apache Spark\n",
    "3. PyTorch"
   ]
  },
  {
   "cell_type": "markdown",
   "id": "a7d29277-e3bd-4ad0-83bc-e61c082a7279",
   "metadata": {},
   "source": [
    "| Data Science Tools |\n",
    "|--------------------|\n",
    "| VS CODE            |\n",
    "| RSTUDIO            |\n",
    "| JUPYTER NOTEBOOK   |\n"
   ]
  },
  {
   "cell_type": "markdown",
   "id": "d7c9154c-3209-490e-9fa1-17ce877f4131",
   "metadata": {},
   "source": [
    "### Below are a few examples of evaluating arithmetic expressions in Python"
   ]
  },
  {
   "cell_type": "code",
   "execution_count": 8,
   "id": "852c061f-b9d1-47b9-ae8f-bf110f6d1252",
   "metadata": {},
   "outputs": [
    {
     "data": {
      "text/plain": [
       "17"
      ]
     },
     "execution_count": 8,
     "metadata": {},
     "output_type": "execute_result"
    }
   ],
   "source": [
    "# This a simple arithmetic expression to mutiply then add integers\n",
    "(3*4)+5"
   ]
  },
  {
   "cell_type": "code",
   "execution_count": 9,
   "id": "b9ebbe05-ee67-4599-acdf-ffbb8c95bec3",
   "metadata": {},
   "outputs": [
    {
     "data": {
      "text/plain": [
       "3.3333333333333335"
      ]
     },
     "execution_count": 9,
     "metadata": {},
     "output_type": "execute_result"
    }
   ],
   "source": [
    "# This will convert 200 minutes to hours by diving by 60\n",
    "200/60"
   ]
  },
  {
   "cell_type": "code",
   "execution_count": null,
   "id": "3e95dec8-ef30-4ea5-9db8-9faa4f078a5d",
   "metadata": {},
   "outputs": [],
   "source": []
  }
 ],
 "metadata": {
  "kernelspec": {
   "display_name": "Python 3 (ipykernel)",
   "language": "python",
   "name": "python3"
  },
  "language_info": {
   "codemirror_mode": {
    "name": "ipython",
    "version": 3
   },
   "file_extension": ".py",
   "mimetype": "text/x-python",
   "name": "python",
   "nbconvert_exporter": "python",
   "pygments_lexer": "ipython3",
   "version": "3.12.8"
  }
 },
 "nbformat": 4,
 "nbformat_minor": 5
}
